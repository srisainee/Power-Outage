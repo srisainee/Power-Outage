{
 "cells": [
  {
   "cell_type": "markdown",
   "id": "33fc1d71",
   "metadata": {},
   "source": [
    "# U.S Power Outage\n",
    "\n",
    "From the early 2000s to the present day, this analysis unveils the pattern of disruptions and resilience within the nation's power grid. Information on electric disturbance events is collected using Form DOE-417 and published online in an annual summary which was obtained from [Maven Analytics](https://mavenanalytics.io/challenges/maven-power-outage-challenge/28) which was cleaned and prepared [here](https://github.com/srisainee/Power-Outage/blob/main/MavenPowerOutageChallenge.ipynb). \n",
    "\n",
    "## Purpose of the report\n",
    "Electricity outages are a growing concern as we enter an age of unprecedented energy demand and climate disasters. The purpose of this analysis is to test the hypothesis if the changes in climate temperatures in the US, influences the number of power outages occuring in the country.  "
   ]
  },
  {
   "cell_type": "code",
   "execution_count": 11,
   "id": "7ebd13b7",
   "metadata": {
    "scrolled": true
   },
   "outputs": [
    {
     "data": {
      "text/html": [
       "<div>\n",
       "<style scoped>\n",
       "    .dataframe tbody tr th:only-of-type {\n",
       "        vertical-align: middle;\n",
       "    }\n",
       "\n",
       "    .dataframe tbody tr th {\n",
       "        vertical-align: top;\n",
       "    }\n",
       "\n",
       "    .dataframe thead th {\n",
       "        text-align: right;\n",
       "    }\n",
       "</style>\n",
       "<table border=\"1\" class=\"dataframe\">\n",
       "  <thead>\n",
       "    <tr style=\"text-align: right;\">\n",
       "      <th></th>\n",
       "      <th>Unnamed: 0</th>\n",
       "      <th>Event Date</th>\n",
       "      <th>Event Type</th>\n",
       "      <th>Restoration</th>\n",
       "      <th>Number of Customers Affected</th>\n",
       "      <th>Area Affected</th>\n",
       "      <th>States</th>\n",
       "      <th>Event Category</th>\n",
       "      <th>Region</th>\n",
       "    </tr>\n",
       "  </thead>\n",
       "  <tbody>\n",
       "    <tr>\n",
       "      <th>0</th>\n",
       "      <td>1</td>\n",
       "      <td>2002-01-30 06:00:00</td>\n",
       "      <td>Ice Storm</td>\n",
       "      <td>2002-02-07 12:00:00</td>\n",
       "      <td>1881134</td>\n",
       "      <td>Oklahoma</td>\n",
       "      <td>Oklahoma</td>\n",
       "      <td>Severe Weather</td>\n",
       "      <td>Southern</td>\n",
       "    </tr>\n",
       "    <tr>\n",
       "      <th>1</th>\n",
       "      <td>3</td>\n",
       "      <td>2002-01-29 18:00:00</td>\n",
       "      <td>Ice Storm</td>\n",
       "      <td>NaN</td>\n",
       "      <td>270000</td>\n",
       "      <td>Metropolitan Kansas City Area</td>\n",
       "      <td>Kansas</td>\n",
       "      <td>Severe Weather</td>\n",
       "      <td>MidWest</td>\n",
       "    </tr>\n",
       "    <tr>\n",
       "      <th>2</th>\n",
       "      <td>4</td>\n",
       "      <td>2002-01-30 16:00:00</td>\n",
       "      <td>Ice Storm</td>\n",
       "      <td>2002-02-10 21:00:00</td>\n",
       "      <td>95000</td>\n",
       "      <td>Missouri</td>\n",
       "      <td>Missouri</td>\n",
       "      <td>Severe Weather</td>\n",
       "      <td>MidWest</td>\n",
       "    </tr>\n",
       "    <tr>\n",
       "      <th>3</th>\n",
       "      <td>6</td>\n",
       "      <td>2002-02-27 10:48:00</td>\n",
       "      <td>Interruption of Firm Load</td>\n",
       "      <td>2002-02-27 11:35:00</td>\n",
       "      <td>255000</td>\n",
       "      <td>California</td>\n",
       "      <td>California</td>\n",
       "      <td>System Operations</td>\n",
       "      <td>West</td>\n",
       "    </tr>\n",
       "    <tr>\n",
       "      <th>4</th>\n",
       "      <td>8</td>\n",
       "      <td>2002-03-09 00:00:00</td>\n",
       "      <td>Severe Weather</td>\n",
       "      <td>2002-03-11 12:00:00</td>\n",
       "      <td>190000</td>\n",
       "      <td>Lower Peninsula of Michigan</td>\n",
       "      <td>Michigan</td>\n",
       "      <td>Severe Weather</td>\n",
       "      <td>MidWest</td>\n",
       "    </tr>\n",
       "    <tr>\n",
       "      <th>...</th>\n",
       "      <td>...</td>\n",
       "      <td>...</td>\n",
       "      <td>...</td>\n",
       "      <td>...</td>\n",
       "      <td>...</td>\n",
       "      <td>...</td>\n",
       "      <td>...</td>\n",
       "      <td>...</td>\n",
       "      <td>...</td>\n",
       "    </tr>\n",
       "    <tr>\n",
       "      <th>5089</th>\n",
       "      <td>4297</td>\n",
       "      <td>2023-06-29 15:42:00</td>\n",
       "      <td>- Weather or natural disaster</td>\n",
       "      <td>NaN</td>\n",
       "      <td>140000</td>\n",
       "      <td>Indiana</td>\n",
       "      <td>Indiana</td>\n",
       "      <td>Severe Weather</td>\n",
       "      <td>MidWest</td>\n",
       "    </tr>\n",
       "    <tr>\n",
       "      <th>5090</th>\n",
       "      <td>4298</td>\n",
       "      <td>2023-06-28 11:01:00</td>\n",
       "      <td>- Vandalism - Theft</td>\n",
       "      <td>2023-06-28 11:03:00</td>\n",
       "      <td>0</td>\n",
       "      <td>Georgia</td>\n",
       "      <td>Georgia</td>\n",
       "      <td>Vandalism</td>\n",
       "      <td>Southern</td>\n",
       "    </tr>\n",
       "    <tr>\n",
       "      <th>5091</th>\n",
       "      <td>4299</td>\n",
       "      <td>2023-06-22 02:30:00</td>\n",
       "      <td>- Transmission equipment failure</td>\n",
       "      <td>2023-06-22 02:38:00</td>\n",
       "      <td>6242</td>\n",
       "      <td>Louisiana</td>\n",
       "      <td>Louisiana</td>\n",
       "      <td>Transmission Interruption</td>\n",
       "      <td>Southern</td>\n",
       "    </tr>\n",
       "    <tr>\n",
       "      <th>5092</th>\n",
       "      <td>4300</td>\n",
       "      <td>2023-06-20 17:48:00</td>\n",
       "      <td>- Transmission equipment failure</td>\n",
       "      <td>2023-06-20 20:52:00</td>\n",
       "      <td>0</td>\n",
       "      <td>Louisiana</td>\n",
       "      <td>Louisiana</td>\n",
       "      <td>Transmission Interruption</td>\n",
       "      <td>Southern</td>\n",
       "    </tr>\n",
       "    <tr>\n",
       "      <th>5093</th>\n",
       "      <td>4301</td>\n",
       "      <td>2023-06-30 12:13:00</td>\n",
       "      <td>- Unknown</td>\n",
       "      <td>NaN</td>\n",
       "      <td>0</td>\n",
       "      <td>Connecticut</td>\n",
       "      <td>Connecticut</td>\n",
       "      <td>Other</td>\n",
       "      <td>Other</td>\n",
       "    </tr>\n",
       "  </tbody>\n",
       "</table>\n",
       "<p>5094 rows × 9 columns</p>\n",
       "</div>"
      ],
      "text/plain": [
       "      Unnamed: 0           Event Date                        Event Type  \\\n",
       "0              1  2002-01-30 06:00:00                         Ice Storm   \n",
       "1              3  2002-01-29 18:00:00                         Ice Storm   \n",
       "2              4  2002-01-30 16:00:00                         Ice Storm   \n",
       "3              6  2002-02-27 10:48:00         Interruption of Firm Load   \n",
       "4              8  2002-03-09 00:00:00                    Severe Weather   \n",
       "...          ...                  ...                               ...   \n",
       "5089        4297  2023-06-29 15:42:00     - Weather or natural disaster   \n",
       "5090        4298  2023-06-28 11:01:00               - Vandalism - Theft   \n",
       "5091        4299  2023-06-22 02:30:00  - Transmission equipment failure   \n",
       "5092        4300  2023-06-20 17:48:00  - Transmission equipment failure   \n",
       "5093        4301  2023-06-30 12:13:00                         - Unknown   \n",
       "\n",
       "              Restoration Number of Customers Affected  \\\n",
       "0     2002-02-07 12:00:00                      1881134   \n",
       "1                     NaN                       270000   \n",
       "2     2002-02-10 21:00:00                        95000   \n",
       "3     2002-02-27 11:35:00                       255000   \n",
       "4     2002-03-11 12:00:00                       190000   \n",
       "...                   ...                          ...   \n",
       "5089                  NaN                       140000   \n",
       "5090  2023-06-28 11:03:00                            0   \n",
       "5091  2023-06-22 02:38:00                         6242   \n",
       "5092  2023-06-20 20:52:00                            0   \n",
       "5093                  NaN                            0   \n",
       "\n",
       "                      Area Affected       States             Event Category  \\\n",
       "0                          Oklahoma     Oklahoma             Severe Weather   \n",
       "1     Metropolitan Kansas City Area       Kansas             Severe Weather   \n",
       "2                          Missouri     Missouri             Severe Weather   \n",
       "3                        California   California          System Operations   \n",
       "4       Lower Peninsula of Michigan     Michigan             Severe Weather   \n",
       "...                             ...          ...                        ...   \n",
       "5089                        Indiana      Indiana             Severe Weather   \n",
       "5090                        Georgia      Georgia                  Vandalism   \n",
       "5091                      Louisiana    Louisiana  Transmission Interruption   \n",
       "5092                      Louisiana    Louisiana  Transmission Interruption   \n",
       "5093                    Connecticut  Connecticut                      Other   \n",
       "\n",
       "        Region  \n",
       "0     Southern  \n",
       "1      MidWest  \n",
       "2      MidWest  \n",
       "3         West  \n",
       "4      MidWest  \n",
       "...        ...  \n",
       "5089   MidWest  \n",
       "5090  Southern  \n",
       "5091  Southern  \n",
       "5092  Southern  \n",
       "5093     Other  \n",
       "\n",
       "[5094 rows x 9 columns]"
      ]
     },
     "execution_count": 11,
     "metadata": {},
     "output_type": "execute_result"
    }
   ],
   "source": [
    "import pandas as pd\n",
    "import numpy as np\n",
    "import matplotlib.pyplot as plt\n",
    "\n",
    "# loading power data\n",
    "power = pd.read_csv(\"power_data(1).csv\")\n",
    "power"
   ]
  },
  {
   "cell_type": "markdown",
   "id": "3717de79",
   "metadata": {},
   "source": [
    "To test the hypothesis, climate data was obtained from [National Centres for Environmental Information](https://www.ncei.noaa.gov/access/monitoring/climate-at-a-glance/national/time-series/110/tavg/12/0/2002-2024?base_prd=true&begbaseyear=1901&endbaseyear=2000). The data contains the monthly average temperature in Farenheit of the country from 2002 to 2023."
   ]
  },
  {
   "cell_type": "code",
   "execution_count": 12,
   "id": "69c50df5",
   "metadata": {},
   "outputs": [
    {
     "data": {
      "text/html": [
       "<div>\n",
       "<style scoped>\n",
       "    .dataframe tbody tr th:only-of-type {\n",
       "        vertical-align: middle;\n",
       "    }\n",
       "\n",
       "    .dataframe tbody tr th {\n",
       "        vertical-align: top;\n",
       "    }\n",
       "\n",
       "    .dataframe thead th {\n",
       "        text-align: right;\n",
       "    }\n",
       "</style>\n",
       "<table border=\"1\" class=\"dataframe\">\n",
       "  <thead>\n",
       "    <tr style=\"text-align: right;\">\n",
       "      <th></th>\n",
       "      <th>Date</th>\n",
       "      <th>Value</th>\n",
       "      <th>Anomaly</th>\n",
       "    </tr>\n",
       "  </thead>\n",
       "  <tbody>\n",
       "    <tr>\n",
       "      <th>0</th>\n",
       "      <td>2002-01-01</td>\n",
       "      <td>53.96</td>\n",
       "      <td>1.94</td>\n",
       "    </tr>\n",
       "    <tr>\n",
       "      <th>1</th>\n",
       "      <td>2002-02-01</td>\n",
       "      <td>54.16</td>\n",
       "      <td>2.14</td>\n",
       "    </tr>\n",
       "    <tr>\n",
       "      <th>2</th>\n",
       "      <td>2002-03-01</td>\n",
       "      <td>53.99</td>\n",
       "      <td>1.96</td>\n",
       "    </tr>\n",
       "    <tr>\n",
       "      <th>3</th>\n",
       "      <td>2002-04-01</td>\n",
       "      <td>54.03</td>\n",
       "      <td>2.00</td>\n",
       "    </tr>\n",
       "    <tr>\n",
       "      <th>4</th>\n",
       "      <td>2002-05-01</td>\n",
       "      <td>53.73</td>\n",
       "      <td>1.70</td>\n",
       "    </tr>\n",
       "    <tr>\n",
       "      <th>...</th>\n",
       "      <td>...</td>\n",
       "      <td>...</td>\n",
       "      <td>...</td>\n",
       "    </tr>\n",
       "    <tr>\n",
       "      <th>260</th>\n",
       "      <td>2023-09-01</td>\n",
       "      <td>53.50</td>\n",
       "      <td>1.47</td>\n",
       "    </tr>\n",
       "    <tr>\n",
       "      <th>261</th>\n",
       "      <td>2023-10-01</td>\n",
       "      <td>53.57</td>\n",
       "      <td>1.54</td>\n",
       "    </tr>\n",
       "    <tr>\n",
       "      <th>262</th>\n",
       "      <td>2023-11-01</td>\n",
       "      <td>53.85</td>\n",
       "      <td>1.82</td>\n",
       "    </tr>\n",
       "    <tr>\n",
       "      <th>263</th>\n",
       "      <td>2023-12-01</td>\n",
       "      <td>54.41</td>\n",
       "      <td>2.39</td>\n",
       "    </tr>\n",
       "    <tr>\n",
       "      <th>264</th>\n",
       "      <td>2024-01-01</td>\n",
       "      <td>54.13</td>\n",
       "      <td>2.11</td>\n",
       "    </tr>\n",
       "  </tbody>\n",
       "</table>\n",
       "<p>265 rows × 3 columns</p>\n",
       "</div>"
      ],
      "text/plain": [
       "          Date  Value  Anomaly\n",
       "0   2002-01-01  53.96     1.94\n",
       "1   2002-02-01  54.16     2.14\n",
       "2   2002-03-01  53.99     1.96\n",
       "3   2002-04-01  54.03     2.00\n",
       "4   2002-05-01  53.73     1.70\n",
       "..         ...    ...      ...\n",
       "260 2023-09-01  53.50     1.47\n",
       "261 2023-10-01  53.57     1.54\n",
       "262 2023-11-01  53.85     1.82\n",
       "263 2023-12-01  54.41     2.39\n",
       "264 2024-01-01  54.13     2.11\n",
       "\n",
       "[265 rows x 3 columns]"
      ]
     },
     "execution_count": 12,
     "metadata": {},
     "output_type": "execute_result"
    }
   ],
   "source": [
    "# loading temperature data\n",
    "temperature = pd.read_csv(\"data.csv\", header=4)\n",
    "temperature.Date = pd.to_datetime(temperature.Date, format = '%Y%m')\n",
    "temperature"
   ]
  },
  {
   "cell_type": "markdown",
   "id": "ad225864",
   "metadata": {},
   "source": [
    "##### Preparing data for statistical test\n",
    "\n",
    "The power data is aggregated by month to find the number of events that occured within that month. The date column format is modified to match the climate data. The power and climate data is merged into one. "
   ]
  },
  {
   "cell_type": "code",
   "execution_count": 13,
   "id": "aa4f4bea",
   "metadata": {
    "scrolled": true
   },
   "outputs": [
    {
     "data": {
      "text/html": [
       "<div>\n",
       "<style scoped>\n",
       "    .dataframe tbody tr th:only-of-type {\n",
       "        vertical-align: middle;\n",
       "    }\n",
       "\n",
       "    .dataframe tbody tr th {\n",
       "        vertical-align: top;\n",
       "    }\n",
       "\n",
       "    .dataframe thead th {\n",
       "        text-align: right;\n",
       "    }\n",
       "</style>\n",
       "<table border=\"1\" class=\"dataframe\">\n",
       "  <thead>\n",
       "    <tr style=\"text-align: right;\">\n",
       "      <th></th>\n",
       "      <th>Date</th>\n",
       "      <th>Event Date</th>\n",
       "      <th>Value</th>\n",
       "      <th>Anomaly</th>\n",
       "    </tr>\n",
       "  </thead>\n",
       "  <tbody>\n",
       "    <tr>\n",
       "      <th>0</th>\n",
       "      <td>2002-01-01</td>\n",
       "      <td>3</td>\n",
       "      <td>53.96</td>\n",
       "      <td>1.94</td>\n",
       "    </tr>\n",
       "    <tr>\n",
       "      <th>1</th>\n",
       "      <td>2002-02-01</td>\n",
       "      <td>1</td>\n",
       "      <td>54.16</td>\n",
       "      <td>2.14</td>\n",
       "    </tr>\n",
       "    <tr>\n",
       "      <th>2</th>\n",
       "      <td>2002-03-01</td>\n",
       "      <td>1</td>\n",
       "      <td>53.99</td>\n",
       "      <td>1.96</td>\n",
       "    </tr>\n",
       "    <tr>\n",
       "      <th>3</th>\n",
       "      <td>2002-04-01</td>\n",
       "      <td>1</td>\n",
       "      <td>54.03</td>\n",
       "      <td>2.00</td>\n",
       "    </tr>\n",
       "    <tr>\n",
       "      <th>4</th>\n",
       "      <td>2002-07-01</td>\n",
       "      <td>3</td>\n",
       "      <td>53.98</td>\n",
       "      <td>1.95</td>\n",
       "    </tr>\n",
       "    <tr>\n",
       "      <th>...</th>\n",
       "      <td>...</td>\n",
       "      <td>...</td>\n",
       "      <td>...</td>\n",
       "      <td>...</td>\n",
       "    </tr>\n",
       "    <tr>\n",
       "      <th>248</th>\n",
       "      <td>2023-02-01</td>\n",
       "      <td>39</td>\n",
       "      <td>53.95</td>\n",
       "      <td>1.93</td>\n",
       "    </tr>\n",
       "    <tr>\n",
       "      <th>249</th>\n",
       "      <td>2023-03-01</td>\n",
       "      <td>71</td>\n",
       "      <td>53.66</td>\n",
       "      <td>1.63</td>\n",
       "    </tr>\n",
       "    <tr>\n",
       "      <th>250</th>\n",
       "      <td>2023-04-01</td>\n",
       "      <td>43</td>\n",
       "      <td>53.72</td>\n",
       "      <td>1.69</td>\n",
       "    </tr>\n",
       "    <tr>\n",
       "      <th>251</th>\n",
       "      <td>2023-05-01</td>\n",
       "      <td>28</td>\n",
       "      <td>53.76</td>\n",
       "      <td>1.73</td>\n",
       "    </tr>\n",
       "    <tr>\n",
       "      <th>252</th>\n",
       "      <td>2023-06-01</td>\n",
       "      <td>18</td>\n",
       "      <td>53.61</td>\n",
       "      <td>1.58</td>\n",
       "    </tr>\n",
       "  </tbody>\n",
       "</table>\n",
       "<p>253 rows × 4 columns</p>\n",
       "</div>"
      ],
      "text/plain": [
       "          Date  Event Date  Value  Anomaly\n",
       "0   2002-01-01           3  53.96     1.94\n",
       "1   2002-02-01           1  54.16     2.14\n",
       "2   2002-03-01           1  53.99     1.96\n",
       "3   2002-04-01           1  54.03     2.00\n",
       "4   2002-07-01           3  53.98     1.95\n",
       "..         ...         ...    ...      ...\n",
       "248 2023-02-01          39  53.95     1.93\n",
       "249 2023-03-01          71  53.66     1.63\n",
       "250 2023-04-01          43  53.72     1.69\n",
       "251 2023-05-01          28  53.76     1.73\n",
       "252 2023-06-01          18  53.61     1.58\n",
       "\n",
       "[253 rows x 4 columns]"
      ]
     },
     "execution_count": 13,
     "metadata": {},
     "output_type": "execute_result"
    }
   ],
   "source": [
    "power['Date'] = pd.to_datetime(power['Event Date'], format='%Y-%m-%d %H:%M:%S').dt.strftime('%Y%m')\n",
    "power['Date'] = pd.to_datetime(power['Date'], format = '%Y%m')\n",
    "power_data = power.groupby(['Date']).agg({'Event Date':'count'}).reset_index()\n",
    "\n",
    "data = power_data.merge(temperature, on='Date', how='left')\n",
    "data"
   ]
  },
  {
   "cell_type": "markdown",
   "id": "82a2e792",
   "metadata": {},
   "source": [
    "## Does change in temperature affect the number of power outages?\n",
    "\n",
    "Hypothesis: Climate change indicators, such as changes in average temperatures, are linked to an increase in the frequency of power outages.\n",
    "\n",
    "To investigate the relationship between the change in climate temperature and the number of power outages, correlation analysis cn be used to assess the strength and direction of the association between these two variables. \n",
    "\n",
    "    Null Hypothesis: There is no correlation between climate temperature and the number of power outages.\n",
    "    Alternative Hypothesis: There is a significant correlation between climate temperature and the number of power outages.\n",
    "    \n",
    "The number of outages and average temperature does not follow a linear relationship and has some extreme outliers which violates the assumption of Pearson's Correlation Coefficient. So a non parametric test - Spearmans's Correlation Coefficient will be used to test the hypothesis. "
   ]
  },
  {
   "cell_type": "code",
   "execution_count": 14,
   "id": "e2833d16",
   "metadata": {},
   "outputs": [
    {
     "data": {
      "text/plain": [
       "<matplotlib.collections.PathCollection at 0x257a3ea3f10>"
      ]
     },
     "execution_count": 14,
     "metadata": {},
     "output_type": "execute_result"
    },
    {
     "data": {
      "image/png": "[encoded data removed]",
      "text/plain": [
       "<Figure size 432x288 with 1 Axes>"
      ]
     },
     "metadata": {
      "needs_background": "light"
     },
     "output_type": "display_data"
    }
   ],
   "source": [
    "x1 = data['Event Date']\n",
    "x2 = data['Value']\n",
    "\n",
    "plt.scatter(x1, x2)"
   ]
  },
  {
   "cell_type": "code",
   "execution_count": 15,
   "id": "13d1bb35",
   "metadata": {},
   "outputs": [
    {
     "name": "stdout",
     "output_type": "stream",
     "text": [
      "Spearman correlation is 0.089\n",
      "Spearman p value is 0.159\n"
     ]
    }
   ],
   "source": [
    "from scipy.stats import spearmanr\n",
    "\n",
    "corr, _ = spearmanr(x1, x2)\n",
    "print('Spearman correlation is ' + str(round(corr,3)) )\n",
    "print('Spearman p value is ' + str(round(_,3)) )\n",
    "\n",
    "if(_<0.05):\n",
    "    print(\"Significant result. Reject null hypothesis\")"
   ]
  },
  {
   "cell_type": "markdown",
   "id": "c51693f0",
   "metadata": {},
   "source": [
    "The p-value for Spearmans correlation is greater than 0.05 indicating that we fail to reject the null hypothesis. Therefore, there is no correlation between the number of power outages and average tempratures in the U.S. \n",
    "\n",
    "Yet, the most common reason for power outage is caused by Severe Weather. If average temperature/climate change does not influence the power outages, could the power outages be happening during certain seasons/months?\n",
    "\n",
    "## Are events due to severe weather occur during a certain time of the year?\n",
    "\n",
    "For this hypothesis, the power data will be aggregated monthly to test if certain months have more severe weather related power outages.\n",
    "\n",
    "The t-test is typically used to compare means between two groups, not multiple groups. In this case, since multiple groups/states are being compared, the t-test becomes less suitable. \n",
    "\n",
    "To test this hypothesis, Kruskal-Wallis test can be used to compare the mean frequency of power outages across the different states for severe weather event type. This test is used because each of the 50 states's number of power outages are independent groups and the data is expected to not be normally distributed. So a non parametric test equivalent to ANOVA - Kruskal-Wallis test is used.\n",
    "\n",
    "\n",
    "    Null Hypothesis: The distributions of power outage frequencies are equal across all states.\n",
    "    Alternative Hypothesis: At least one state has a different distribution of power outage frequencies.\n",
    "    "
   ]
  },
  {
   "cell_type": "code",
   "execution_count": 37,
   "id": "183755b5",
   "metadata": {},
   "outputs": [
    {
     "name": "stdout",
     "output_type": "stream",
     "text": [
      "Kruskal-Wallis Test Statistic: 11.0\n",
      "P-value: 0.4432632784264655\n",
      "Fail to reject the null hypothesis. There is no significant difference in the distributions.\n"
     ]
    }
   ],
   "source": [
    "from scipy.stats import kruskal\n",
    "\n",
    "df = power\n",
    "df = df[df['Event Category'] == 'Severe Weather']\n",
    "df = df.groupby(['Month']).agg({'Event Date': 'nunique'}).rename(columns={\"Event Date\": \"Count\"}).reset_index()\n",
    "\n",
    "result = kruskal(*[df['Count'][df['Month'] == month] for month in df['Month'].unique()])\n",
    "\n",
    "print(\"Kruskal-Wallis Test Statistic:\", result.statistic)\n",
    "print(\"P-value:\", result.pvalue)\n",
    "\n",
    "if result.pvalue < 0.05:\n",
    "    print(\"Significant result. Reject null hypothesis\")"
   ]
  },
  {
   "cell_type": "markdown",
   "id": "52b8e42a",
   "metadata": {},
   "source": [
    "The p-value of Kruskal-Wallis Test indicates that we fail to reject the null hypothesis. There is no significant difference in the distributions of power outages in certain months of the year. \n",
    "\n",
    "If some states are not affected more due to severe weather, could they be affected due to other types of events? \n",
    "\n",
    "### Are some event types more likely to occur in certain months of the year?\n",
    "\n",
    "Since the months and type of events are categorical variables, chi sq test will be used."
   ]
  },
  {
   "cell_type": "code",
   "execution_count": 32,
   "id": "c833304e",
   "metadata": {
    "scrolled": true
   },
   "outputs": [
    {
     "data": {
      "text/html": [
       "<div>\n",
       "<style scoped>\n",
       "    .dataframe tbody tr th:only-of-type {\n",
       "        vertical-align: middle;\n",
       "    }\n",
       "\n",
       "    .dataframe tbody tr th {\n",
       "        vertical-align: top;\n",
       "    }\n",
       "\n",
       "    .dataframe thead th {\n",
       "        text-align: right;\n",
       "    }\n",
       "</style>\n",
       "<table border=\"1\" class=\"dataframe\">\n",
       "  <thead>\n",
       "    <tr style=\"text-align: right;\">\n",
       "      <th>Event Category</th>\n",
       "      <th>Other</th>\n",
       "      <th>Severe Weather</th>\n",
       "      <th>System Operations</th>\n",
       "      <th>Transmission Interruption</th>\n",
       "      <th>Vandalism</th>\n",
       "    </tr>\n",
       "    <tr>\n",
       "      <th>Month</th>\n",
       "      <th></th>\n",
       "      <th></th>\n",
       "      <th></th>\n",
       "      <th></th>\n",
       "      <th></th>\n",
       "    </tr>\n",
       "  </thead>\n",
       "  <tbody>\n",
       "    <tr>\n",
       "      <th>April</th>\n",
       "      <td>0</td>\n",
       "      <td>209</td>\n",
       "      <td>82</td>\n",
       "      <td>23</td>\n",
       "      <td>108</td>\n",
       "    </tr>\n",
       "    <tr>\n",
       "      <th>August</th>\n",
       "      <td>52</td>\n",
       "      <td>280</td>\n",
       "      <td>78</td>\n",
       "      <td>23</td>\n",
       "      <td>103</td>\n",
       "    </tr>\n",
       "    <tr>\n",
       "      <th>December</th>\n",
       "      <td>5</td>\n",
       "      <td>187</td>\n",
       "      <td>61</td>\n",
       "      <td>24</td>\n",
       "      <td>115</td>\n",
       "    </tr>\n",
       "    <tr>\n",
       "      <th>February</th>\n",
       "      <td>7</td>\n",
       "      <td>310</td>\n",
       "      <td>93</td>\n",
       "      <td>20</td>\n",
       "      <td>104</td>\n",
       "    </tr>\n",
       "    <tr>\n",
       "      <th>January</th>\n",
       "      <td>2</td>\n",
       "      <td>212</td>\n",
       "      <td>66</td>\n",
       "      <td>13</td>\n",
       "      <td>115</td>\n",
       "    </tr>\n",
       "    <tr>\n",
       "      <th>July</th>\n",
       "      <td>18</td>\n",
       "      <td>237</td>\n",
       "      <td>100</td>\n",
       "      <td>24</td>\n",
       "      <td>100</td>\n",
       "    </tr>\n",
       "    <tr>\n",
       "      <th>June</th>\n",
       "      <td>15</td>\n",
       "      <td>278</td>\n",
       "      <td>90</td>\n",
       "      <td>22</td>\n",
       "      <td>92</td>\n",
       "    </tr>\n",
       "    <tr>\n",
       "      <th>March</th>\n",
       "      <td>1</td>\n",
       "      <td>191</td>\n",
       "      <td>58</td>\n",
       "      <td>16</td>\n",
       "      <td>119</td>\n",
       "    </tr>\n",
       "    <tr>\n",
       "      <th>May</th>\n",
       "      <td>3</td>\n",
       "      <td>133</td>\n",
       "      <td>62</td>\n",
       "      <td>22</td>\n",
       "      <td>117</td>\n",
       "    </tr>\n",
       "    <tr>\n",
       "      <th>November</th>\n",
       "      <td>0</td>\n",
       "      <td>135</td>\n",
       "      <td>68</td>\n",
       "      <td>11</td>\n",
       "      <td>90</td>\n",
       "    </tr>\n",
       "    <tr>\n",
       "      <th>October</th>\n",
       "      <td>9</td>\n",
       "      <td>218</td>\n",
       "      <td>63</td>\n",
       "      <td>26</td>\n",
       "      <td>109</td>\n",
       "    </tr>\n",
       "    <tr>\n",
       "      <th>September</th>\n",
       "      <td>11</td>\n",
       "      <td>197</td>\n",
       "      <td>73</td>\n",
       "      <td>17</td>\n",
       "      <td>77</td>\n",
       "    </tr>\n",
       "  </tbody>\n",
       "</table>\n",
       "</div>"
      ],
      "text/plain": [
       "Event Category  Other  Severe Weather  System Operations  \\\n",
       "Month                                                      \n",
       "April               0             209                 82   \n",
       "August             52             280                 78   \n",
       "December            5             187                 61   \n",
       "February            7             310                 93   \n",
       "January             2             212                 66   \n",
       "July               18             237                100   \n",
       "June               15             278                 90   \n",
       "March               1             191                 58   \n",
       "May                 3             133                 62   \n",
       "November            0             135                 68   \n",
       "October             9             218                 63   \n",
       "September          11             197                 73   \n",
       "\n",
       "Event Category  Transmission Interruption  Vandalism  \n",
       "Month                                                 \n",
       "April                                  23        108  \n",
       "August                                 23        103  \n",
       "December                               24        115  \n",
       "February                               20        104  \n",
       "January                                13        115  \n",
       "July                                   24        100  \n",
       "June                                   22         92  \n",
       "March                                  16        119  \n",
       "May                                    22        117  \n",
       "November                               11         90  \n",
       "October                                26        109  \n",
       "September                              17         77  "
      ]
     },
     "execution_count": 32,
     "metadata": {},
     "output_type": "execute_result"
    }
   ],
   "source": [
    "df = power\n",
    "df['Event Date'] = pd.to_datetime(df['Event Date'])\n",
    "df['Month'] = df['Event Date'].dt.month_name(locale='English')\n",
    "\n",
    "contingency_table = pd.crosstab(df['Month'], df['Event Category'])\n",
    "contingency_table"
   ]
  },
  {
   "cell_type": "code",
   "execution_count": 33,
   "id": "0c27ca3a",
   "metadata": {},
   "outputs": [
    {
     "name": "stdout",
     "output_type": "stream",
     "text": [
      "Chi-square statistic is 263.984\n",
      "Chi-square p value is 0.0\n",
      "Significant result. Reject null hypothesis\n"
     ]
    }
   ],
   "source": [
    "from scipy.stats import chi2_contingency\n",
    "\n",
    "observed_data = contingency_table.to_numpy()\n",
    "\n",
    "chi2, p, _, _ = chi2_contingency(observed_data)\n",
    "\n",
    "print('Chi-square statistic is ' + str(round(chi2,3)) )\n",
    "print('Chi-square p value is ' + str(round(p,3)) )\n",
    "\n",
    "if (p < 0.05):\n",
    "    print(\"Significant result. Reject null hypothesis\")"
   ]
  },
  {
   "cell_type": "markdown",
   "id": "fb05aebd",
   "metadata": {},
   "source": [
    "The p-value of the chi sq test is less than 0.05 which indicates that there is sufficient evidence to conclude that a relationship exists between the event types and months. Therefore, some months are more likely to have more power outages than other months of the year in the US caused by certain types of events.\n",
    "\n",
    "If certain months experience a higher frequency of power outages attributed to event types, could specific states be  affected more by certain events types?\n",
    "\n",
    " ### Is there a difference in the frequency of power outages caused by differnt event types in different states?\n",
    " \n",
    "To test the hypothesis if some states are more prone to some type of outages, chi sq test will be used to see if there is an a relationship between the event tpe and the state as we are testing the relationship bvetween 2 categorical variables."
   ]
  },
  {
   "cell_type": "code",
   "execution_count": 18,
   "id": "6f65519b",
   "metadata": {},
   "outputs": [
    {
     "name": "stdout",
     "output_type": "stream",
     "text": [
      "Chi-square statistic: 1965.7790455222212\n",
      "P-value: 2.9831060821256067e-252\n",
      "Significant result. Reject null hypothesis\n"
     ]
    }
   ],
   "source": [
    "df = power\n",
    "\n",
    "contingency_table = pd.crosstab(df['States'], df['Event Category'])\n",
    "contingency_table\n",
    "\n",
    "observed_data = contingency_table.to_numpy()\n",
    "\n",
    "chi2, p, _, _ = chi2_contingency(observed_data)\n",
    "\n",
    "print(f\"Chi-square statistic: {chi2}\")\n",
    "print(f\"P-value: {p}\")\n",
    "\n",
    "if (p < 0.05):\n",
    "    print(\"Significant result. Reject null hypothesis\")"
   ]
  },
  {
   "cell_type": "markdown",
   "id": "f806eeec",
   "metadata": {},
   "source": [
    "However, some states have more number of outages than the other. Does that mean power outages are more frequent in certain states? \n",
    "\n",
    "To test this hypothesis, Kruskal-Wallis test can be used to compare the mean frequency of power outages across the different states. This test is used because each of the 50 states's number of power outages are independent groups and the data is expected to not be normally distributed. So a non parametric test equivalent to ANOVA - Kruskal-Wallis test is used. \n",
    "\n",
    "## Do certain states have frequent power outages than the others?"
   ]
  },
  {
   "cell_type": "code",
   "execution_count": 5,
   "id": "d1a4ba4f",
   "metadata": {
    "scrolled": false
   },
   "outputs": [
    {
     "data": {
      "text/plain": [
       "(array([ 124.,  242.,  318.,  330.,  566.,  505.,  392.,  562., 1026.,\n",
       "        1029.]),\n",
       " array([11716.75      , 12498.92590278, 13281.10180556, 14063.27770833,\n",
       "        14845.45361111, 15627.62951389, 16409.80541667, 17191.98131944,\n",
       "        17974.15722222, 18756.333125  , 19538.50902778]),\n",
       " <BarContainer object of 10 artists>)"
      ]
     },
     "execution_count": 5,
     "metadata": {},
     "output_type": "execute_result"
    },
    {
     "data": {
      "image/png": "[encoded data removed]",
      "text/plain": [
       "<Figure size 432x288 with 1 Axes>"
      ]
     },
     "metadata": {
      "needs_background": "light"
     },
     "output_type": "display_data"
    }
   ],
   "source": [
    "power['Event Date'] = pd.to_datetime(power['Event Date'])\n",
    "plt.hist(power['Event Date'])"
   ]
  },
  {
   "cell_type": "markdown",
   "id": "de43cd0c",
   "metadata": {},
   "source": [
    "Preparing data for the statistical test"
   ]
  },
  {
   "cell_type": "code",
   "execution_count": 7,
   "id": "8740a73c",
   "metadata": {
    "scrolled": true
   },
   "outputs": [
    {
     "data": {
      "text/html": [
       "<div>\n",
       "<style scoped>\n",
       "    .dataframe tbody tr th:only-of-type {\n",
       "        vertical-align: middle;\n",
       "    }\n",
       "\n",
       "    .dataframe tbody tr th {\n",
       "        vertical-align: top;\n",
       "    }\n",
       "\n",
       "    .dataframe thead th {\n",
       "        text-align: right;\n",
       "    }\n",
       "</style>\n",
       "<table border=\"1\" class=\"dataframe\">\n",
       "  <thead>\n",
       "    <tr style=\"text-align: right;\">\n",
       "      <th></th>\n",
       "      <th>States</th>\n",
       "      <th>Count</th>\n",
       "    </tr>\n",
       "  </thead>\n",
       "  <tbody>\n",
       "    <tr>\n",
       "      <th>0</th>\n",
       "      <td>Alabama</td>\n",
       "      <td>88</td>\n",
       "    </tr>\n",
       "    <tr>\n",
       "      <th>1</th>\n",
       "      <td>Arizona</td>\n",
       "      <td>45</td>\n",
       "    </tr>\n",
       "    <tr>\n",
       "      <th>2</th>\n",
       "      <td>Arkansas</td>\n",
       "      <td>108</td>\n",
       "    </tr>\n",
       "    <tr>\n",
       "      <th>3</th>\n",
       "      <td>CFE (Mexico &amp; U.S.)</td>\n",
       "      <td>1</td>\n",
       "    </tr>\n",
       "    <tr>\n",
       "      <th>4</th>\n",
       "      <td>CSWSUnknownAEP West</td>\n",
       "      <td>1</td>\n",
       "    </tr>\n",
       "    <tr>\n",
       "      <th>...</th>\n",
       "      <td>...</td>\n",
       "      <td>...</td>\n",
       "    </tr>\n",
       "    <tr>\n",
       "      <th>65</th>\n",
       "      <td>Washington</td>\n",
       "      <td>284</td>\n",
       "    </tr>\n",
       "    <tr>\n",
       "      <th>66</th>\n",
       "      <td>West Virginia</td>\n",
       "      <td>54</td>\n",
       "    </tr>\n",
       "    <tr>\n",
       "      <th>67</th>\n",
       "      <td>Western Region of Service Territory</td>\n",
       "      <td>3</td>\n",
       "    </tr>\n",
       "    <tr>\n",
       "      <th>68</th>\n",
       "      <td>Wisconsin</td>\n",
       "      <td>58</td>\n",
       "    </tr>\n",
       "    <tr>\n",
       "      <th>69</th>\n",
       "      <td>Wyoming</td>\n",
       "      <td>24</td>\n",
       "    </tr>\n",
       "  </tbody>\n",
       "</table>\n",
       "<p>70 rows × 2 columns</p>\n",
       "</div>"
      ],
      "text/plain": [
       "                                 States  Count\n",
       "0                               Alabama     88\n",
       "1                               Arizona     45\n",
       "2                              Arkansas    108\n",
       "3                   CFE (Mexico & U.S.)      1\n",
       "4                   CSWSUnknownAEP West      1\n",
       "..                                  ...    ...\n",
       "65                           Washington    284\n",
       "66                        West Virginia     54\n",
       "67  Western Region of Service Territory      3\n",
       "68                            Wisconsin     58\n",
       "69                              Wyoming     24\n",
       "\n",
       "[70 rows x 2 columns]"
      ]
     },
     "execution_count": 7,
     "metadata": {},
     "output_type": "execute_result"
    }
   ],
   "source": [
    "states = power.groupby(['States']).agg({'Event Date': 'nunique'}).rename(columns={\"Event Date\": \"Count\"}).reset_index()\n",
    "states"
   ]
  },
  {
   "cell_type": "markdown",
   "id": "70163423",
   "metadata": {},
   "source": [
    "Checking for normally distributed data using histogram and Q-Q plots"
   ]
  },
  {
   "cell_type": "code",
   "execution_count": 8,
   "id": "5415722d",
   "metadata": {
    "scrolled": true
   },
   "outputs": [
    {
     "data": {
      "text/plain": [
       "(array([31., 22., 11.,  2.,  1.,  1.,  0.,  0.,  1.,  1.]),\n",
       " array([  1. ,  49.8,  98.6, 147.4, 196.2, 245. , 293.8, 342.6, 391.4,\n",
       "        440.2, 489. ]),\n",
       " <BarContainer object of 10 artists>)"
      ]
     },
     "execution_count": 8,
     "metadata": {},
     "output_type": "execute_result"
    },
    {
     "data": {
      "image/png": "[encoded data removed]",
      "text/plain": [
       "<Figure size 432x288 with 1 Axes>"
      ]
     },
     "metadata": {
      "needs_background": "light"
     },
     "output_type": "display_data"
    }
   ],
   "source": [
    "plt.hist(states['Count'])"
   ]
  },
  {
   "cell_type": "code",
   "execution_count": 9,
   "id": "91bac255",
   "metadata": {
    "scrolled": false
   },
   "outputs": [
    {
     "name": "stderr",
     "output_type": "stream",
     "text": [
      "C:\\Users\\SriThirumurugan\\anaconda3\\lib\\site-packages\\statsmodels\\tsa\\base\\tsa_model.py:7: FutureWarning: pandas.Int64Index is deprecated and will be removed from pandas in a future version. Use pandas.Index with the appropriate dtype instead.\n",
      "  from pandas import (to_datetime, Int64Index, DatetimeIndex, Period,\n",
      "C:\\Users\\SriThirumurugan\\anaconda3\\lib\\site-packages\\statsmodels\\tsa\\base\\tsa_model.py:7: FutureWarning: pandas.Float64Index is deprecated and will be removed from pandas in a future version. Use pandas.Index with the appropriate dtype instead.\n",
      "  from pandas import (to_datetime, Int64Index, DatetimeIndex, Period,\n",
      "C:\\Users\\SriThirumurugan\\anaconda3\\lib\\site-packages\\statsmodels\\graphics\\gofplots.py:993: UserWarning: marker is redundantly defined by the 'marker' keyword argument and the fmt string \"bo\" (-> marker='o'). The keyword argument will take precedence.\n",
      "  ax.plot(x, y, fmt, **plot_style)\n"
     ]
    },
    {
     "data": {
      "image/png": "[encoded data removed]",
      "text/plain": [
       "<Figure size 432x288 with 1 Axes>"
      ]
     },
     "metadata": {
      "needs_background": "light"
     },
     "output_type": "display_data"
    }
   ],
   "source": [
    "import statsmodels.api as sm\n",
    "import matplotlib.pyplot as plt\n",
    "\n",
    "# Assuming 'outages' is a list/array containing the number of outages for all states\n",
    "sm.qqplot(states['Count'], line='45')\n",
    "plt.title('Q-Q Plot of Power Outages Across States')\n",
    "plt.show()"
   ]
  },
  {
   "cell_type": "markdown",
   "id": "bb7279b1",
   "metadata": {},
   "source": [
    "The histogram and QQ plots show that the data is not normally distributed. Hence Kruskal-Wallis test will be used to test if certain states have higher frequency of power outages than the other."
   ]
  },
  {
   "cell_type": "code",
   "execution_count": 58,
   "id": "55cfd131",
   "metadata": {},
   "outputs": [
    {
     "name": "stdout",
     "output_type": "stream",
     "text": [
      "Kruskal-Wallis Test Statistic: 69.00000000000001\n",
      "P-value: 0.4773564430497357\n",
      "Fail to reject the null hypothesis. There is no significant difference in the distributions.\n"
     ]
    }
   ],
   "source": [
    "result = kruskal(*[states['Count'][states['States'] == state] for state in states['States'].unique()])\n",
    "\n",
    "print(\"Kruskal-Wallis Test Statistic:\", result.statistic)\n",
    "print(\"P-value:\", result.pvalue)\n",
    "\n",
    "if result.pvalue < 0.05:\n",
    "    print(\"Significant result. Reject null hypothesis\")"
   ]
  },
  {
   "cell_type": "markdown",
   "id": "5f4efbc4",
   "metadata": {},
   "source": [
    "The p-value of the Kruskal-Wallis test indicates that there is not significant difference in the distributions of the power outages as we fail to reject the null hypothesis. This means that even though some states have a high number of power outages, it does not mean they have more frequent power outages. \n",
    "\n",
    "It can be concluded that some states more likely to have outages due to certain conditions but some states are not likely to have more power outages than others."
   ]
  }
 ],
 "metadata": {
  "kernelspec": {
   "display_name": "Python 3 (ipykernel)",
   "language": "python",
   "name": "python3"
  },
  "language_info": {
   "codemirror_mode": {
    "name": "ipython",
    "version": 3
   },
   "file_extension": ".py",
   "mimetype": "text/x-python",
   "name": "python",
   "nbconvert_exporter": "python",
   "pygments_lexer": "ipython3",
   "version": "3.9.7"
  }
 },
 "nbformat": 4,
 "nbformat_minor": 5
}
